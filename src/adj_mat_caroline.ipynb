{
 "cells": [
  {
   "cell_type": "markdown",
   "metadata": {},
   "source": [
    "# Circos data 4R\n",
    "This notebook calculates the weighted adjacency matrix between CDR3 sequences of **MUSL** and **PB** tissues from a given TCR chain for plotting the circos plot in R.<br>\n",
    "Author: **Juan Sebastian Diaz Boada**<br>\n",
    "6/12/2021<br>\n",
    "Environment: *scMyositis*<br>"
   ]
  },
  {
   "cell_type": "code",
   "execution_count": null,
   "metadata": {},
   "outputs": [],
   "source": [
    "import numpy as np\n",
    "import pandas as pd\n",
    "from itertools import product\n",
    "from matplotlib import pyplot as plt"
   ]
  },
  {
   "cell_type": "code",
   "execution_count": null,
   "metadata": {},
   "outputs": [],
   "source": [
    "import warnings\n",
    "warnings.filterwarnings(\"ignore\")"
   ]
  },
  {
   "cell_type": "markdown",
   "metadata": {},
   "source": [
    "# Parameters"
   ]
  },
  {
   "cell_type": "code",
   "execution_count": null,
   "metadata": {},
   "outputs": [],
   "source": [
    "infile = '../data/273 110x plasma cells for circus 220911.txt'\n",
    "#output_path_prefix = '../data/output_data/circos_adj_in_tissue/'\n",
    "outfile = '../results/datasets/257_circos.tsv'\n",
    "outfile"
   ]
  },
  {
   "cell_type": "markdown",
   "metadata": {},
   "source": [
    "# Load data"
   ]
  },
  {
   "cell_type": "code",
   "execution_count": null,
   "metadata": {
    "scrolled": true
   },
   "outputs": [],
   "source": [
    "DF = pd.read_csv(infile,sep='\\t',index_col=0)\n",
    "with pd.option_context('display.max_columns',None):\n",
    "    display(DF)"
   ]
  },
  {
   "cell_type": "code",
   "execution_count": null,
   "metadata": {},
   "outputs": [],
   "source": [
    "row_colors = DF.index.values[1:-1]\n",
    "print(len(row_colors))\n",
    "row_colors"
   ]
  },
  {
   "cell_type": "code",
   "execution_count": null,
   "metadata": {},
   "outputs": [],
   "source": [
    "col_colors = DF.columns[1:-1]\n",
    "print(len(col_colors))\n",
    "col_colors"
   ]
  },
  {
   "cell_type": "code",
   "execution_count": null,
   "metadata": {},
   "outputs": [],
   "source": [
    "DF = DF.iloc[:-1,:-1]\n",
    "DF = DF.set_index('data.1',drop=True)\n",
    "DF.columns = DF.iloc[0,:]\n",
    "DF = DF.drop('Count',axis=0)\n",
    "DF"
   ]
  },
  {
   "cell_type": "markdown",
   "metadata": {},
   "source": [
    "# Export data"
   ]
  },
  {
   "cell_type": "code",
   "execution_count": null,
   "metadata": {},
   "outputs": [],
   "source": [
    "DF.to_csv(outfile,sep='\\t')"
   ]
  },
  {
   "cell_type": "code",
   "execution_count": null,
   "metadata": {},
   "outputs": [],
   "source": []
  }
 ],
 "metadata": {
  "kernelspec": {
   "display_name": "scMyositis",
   "language": "python",
   "name": "scmyositis"
  },
  "language_info": {
   "codemirror_mode": {
    "name": "ipython",
    "version": 3
   },
   "file_extension": ".py",
   "mimetype": "text/x-python",
   "name": "python",
   "nbconvert_exporter": "python",
   "pygments_lexer": "ipython3",
   "version": "3.7.10"
  }
 },
 "nbformat": 4,
 "nbformat_minor": 4
}
